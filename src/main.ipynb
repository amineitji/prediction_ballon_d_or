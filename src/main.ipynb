{
 "cells": [
  {
   "cell_type": "markdown",
   "metadata": {},
   "source": [
    "# Recuperation des data joueurs\n",
    "\n",
    "### on boucle de chaque joueur \n",
    "https://fbref.com/fr/joueurs/6025fab1/all_comps/Statistiques-Luka-Modric-Stats---Toutes-les-competitions\n",
    "\n",
    "https://fbref.com/fr/joueurs/6025fab1/nat_tm/Statistiques-de-lequipe-nationale-Luka-Modric\n",
    "\n",
    "https://fbref.com/fr/joueurs/6025fab1/goallogs/all_comps/Registre-des-buts-de-Luka-Modric\n",
    "\n",
    "### on forme un dataset\n",
    "\n",
    "### on fait de l'apprentissage supervisé\n",
    "\n",
    "### on fait des test d'accuracy\n",
    "\n",
    "### on prend les data de 2024 et on predit le BO\n",
    "\n",
    "### bonus : on cherche à repondre en quoi on merite un BO (quelle variable a une variation qui change la donne)"
   ]
  }
 ],
 "metadata": {
  "language_info": {
   "name": "python"
  }
 },
 "nbformat": 4,
 "nbformat_minor": 2
}
